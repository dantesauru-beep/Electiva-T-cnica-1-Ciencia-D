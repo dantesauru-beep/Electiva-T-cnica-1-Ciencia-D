{
  "nbformat": 4,
  "nbformat_minor": 0,
  "metadata": {
    "colab": {
      "provenance": [],
      "authorship_tag": "ABX9TyNcpnzlySls00GRK9w3JDPa",
      "include_colab_link": true
    },
    "kernelspec": {
      "name": "python3",
      "display_name": "Python 3"
    },
    "language_info": {
      "name": "python"
    }
  },
  "cells": [
    {
      "cell_type": "markdown",
      "metadata": {
        "id": "view-in-github",
        "colab_type": "text"
      },
      "source": [
        "<a href=\"https://colab.research.google.com/github/dantesauru-beep/Electiva-T-cnica-1-Ciencia-D/blob/main/EjerciciosVirtualipynb.ipynb\" target=\"_parent\"><img src=\"https://colab.research.google.com/assets/colab-badge.svg\" alt=\"Open In Colab\"/></a>"
      ]
    },
    {
      "cell_type": "markdown",
      "source": [
        "# **Parámetros posicionales**\n",
        " Los más comunes. Se pasan en el orden en que aparecen en la\n",
        " definición de la función\n"
      ],
      "metadata": {
        "id": "me4PmtYzXPnt"
      }
    },
    {
      "cell_type": "code",
      "source": [
        "def suma(a, b):\n",
        "    return a + b\n",
        "resultado = suma(5, 3)\n",
        "# a=5, b=3\n",
        "\n",
        "suma(a=5, b=3)"
      ],
      "metadata": {
        "colab": {
          "base_uri": "https://localhost:8080/"
        },
        "id": "0Sqlex2IXX4e",
        "outputId": "367234e4-1513-472a-b0f5-78d0d473a9a6"
      },
      "execution_count": null,
      "outputs": [
        {
          "output_type": "execute_result",
          "data": {
            "text/plain": [
              "8"
            ]
          },
          "metadata": {},
          "execution_count": 13
        }
      ]
    },
    {
      "cell_type": "markdown",
      "source": [
        "# **Valores predeterminados**\n",
        " Tienen un valor por defecto si no se proporciona uno al llamar a la\n",
        " función"
      ],
      "metadata": {
        "id": "yt4UzniKXqz3"
      }
    },
    {
      "cell_type": "code",
      "source": [
        "def saludar(nombre=\"Mundo\"):\n",
        "    print(f\"Hola, {nombre}\")\n",
        "saludar() # Hola, Mundo\n",
        "saludar(\"Ana\") # Hola, Ana"
      ],
      "metadata": {
        "colab": {
          "base_uri": "https://localhost:8080/"
        },
        "id": "-zuTqfWgXrA4",
        "outputId": "9ce5907c-66be-45c2-cf3a-2c342527b540"
      },
      "execution_count": null,
      "outputs": [
        {
          "output_type": "stream",
          "name": "stdout",
          "text": [
            "Hola, Mundo\n",
            "Hola, Ana\n"
          ]
        }
      ]
    },
    {
      "cell_type": "markdown",
      "source": [
        "# **Valores predeterminados**\n",
        " Tienen un valor por defecto si no se proporciona uno al llamar a la\n",
        " función"
      ],
      "metadata": {
        "id": "_EdlYu96Xrc0"
      }
    },
    {
      "cell_type": "code",
      "source": [
        "def info(nombre, edad=25):\n",
        "    print(f\"{nombre}: {edad}\")\n",
        "info(edad=30, nombre=\"Luis\")\n",
        "# Luis: 30"
      ],
      "metadata": {
        "colab": {
          "base_uri": "https://localhost:8080/"
        },
        "id": "RrVeb20mXrrl",
        "outputId": "08fe5607-88c6-4649-c93c-c1974f28b0a4"
      },
      "execution_count": null,
      "outputs": [
        {
          "output_type": "stream",
          "name": "stdout",
          "text": [
            "Luis: 30\n"
          ]
        }
      ]
    },
    {
      "cell_type": "markdown",
      "source": [
        "# **Parámetros de longitud variable**\n",
        " Permiten aceptar un número variable de argumentos posicionales\n",
        " (*args) o con nombre (**kwargs)"
      ],
      "metadata": {
        "id": "CWgXnQJbXry4"
      }
    },
    {
      "cell_type": "code",
      "source": [
        "def suma_varios(*args):\n",
        "    return sum(args)\n",
        "suma_varios(1, 2, 3, 4, 5) # 6"
      ],
      "metadata": {
        "id": "3tw-uqwcXsA-",
        "colab": {
          "base_uri": "https://localhost:8080/"
        },
        "outputId": "ee7e6e07-3a59-48a3-de80-4239f1ec9c5b"
      },
      "execution_count": null,
      "outputs": [
        {
          "output_type": "execute_result",
          "data": {
            "text/plain": [
              "15"
            ]
          },
          "metadata": {},
          "execution_count": 25
        }
      ]
    },
    {
      "cell_type": "code",
      "source": [
        "def mostrar_info(**kwargs):\n",
        "    for k, v in kwargs.items():\n",
        "        print(f\"{k}: {v}\")\n",
        "mostrar_info(nombre=\"Diego\", edad=30, ciudad=\"Bogotá\")"
      ],
      "metadata": {
        "colab": {
          "base_uri": "https://localhost:8080/"
        },
        "id": "yC6bISTtZv48",
        "outputId": "fe2945af-1872-4767-e1c9-cad18af5a9aa"
      },
      "execution_count": null,
      "outputs": [
        {
          "output_type": "stream",
          "name": "stdout",
          "text": [
            "nombre: Diego\n",
            "edad: 30\n",
            "ciudad: Bogotá\n"
          ]
        }
      ]
    }
  ]
}
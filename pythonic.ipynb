{
  "nbformat": 4,
  "nbformat_minor": 0,
  "metadata": {
    "colab": {
      "provenance": [],
      "authorship_tag": "ABX9TyPQDypTYqOrdHQJdDY20Q+D",
      "include_colab_link": true
    },
    "kernelspec": {
      "name": "python3",
      "display_name": "Python 3"
    },
    "language_info": {
      "name": "python"
    }
  },
  "cells": [
    {
      "cell_type": "markdown",
      "metadata": {
        "id": "view-in-github",
        "colab_type": "text"
      },
      "source": [
        "<a href=\"https://colab.research.google.com/github/dantesauru-beep/Electiva-T-cnica-1-Ciencia-D/blob/main/pythonic.ipynb\" target=\"_parent\"><img src=\"https://colab.research.google.com/assets/colab-badge.svg\" alt=\"Open In Colab\"/></a>"
      ]
    },
    {
      "cell_type": "markdown",
      "source": [
        "#Guía 1: Filosofía Pythonic\n"
      ],
      "metadata": {
        "id": "N6LZxTgz7Hhh"
      }
    },
    {
      "cell_type": "markdown",
      "source": [
        "Mini–taller práctico para estudiantes que vienen de Java\n",
        "\n",
        "Esculea Tecnológica Instituto Técnico Central\n",
        "Ciencia de Datos I\n",
        "Ing. Elias Buitrago MSc\n",
        "\n",
        "\n",
        "*Actualizado agosto de 2025*\n",
        "\n",
        "**Propósito**. Que el estudiante piense en Python y no solo “traduzca”\n",
        "código de Java: escribir soluciones claras, concisas, legibles y con las\n",
        "herramientas idiomáticas del lenguaje."
      ],
      "metadata": {
        "id": "1a6rh2fjAJ5x"
      }
    },
    {
      "cell_type": "markdown",
      "source": [
        "INDICE"
      ],
      "metadata": {
        "id": "YKrKde6_A4M8"
      }
    },
    {
      "cell_type": "markdown",
      "source": [
        "##1. **Qué significa escribir código Pythonic?**\n"
      ],
      "metadata": {
        "id": "SwvL7vesA6Yc"
      }
    },
    {
      "cell_type": "markdown",
      "source": [
        "##**1.1.** **Idea** **general**\n",
        "\n",
        "**Pythonic** describe un estilo de programación que prioriza:\n",
        "- **Claridad** y **legibilidad** para otros.\n",
        "- **Simplicidad** en vez de complejidad innecesaria.\n",
        "- Uso **idiomático** de las estructuras y librerías de Python.\n",
        "\n",
        "No basta con que el programa funcione: cómo se escribe también importa.\n",
        "Quien llega desde Java tiende a replicar patrones verbosos. Por lo tanto, en\n",
        "esta guía se exponen algunas de las facilidades de Python (iteración directa,\n",
        "comprensiones, desempaquetado, funciones de orden superior, etc.).\n",
        "\n",
        "\n",
        "#1.2. Principios del Zen of Python\n",
        "En la consola de Python:\n"
      ],
      "metadata": {
        "id": "pfOEnEPjAbKy"
      }
    },
    {
      "cell_type": "code",
      "source": [
        "import this"
      ],
      "metadata": {
        "id": "CPVurPF--5Pq"
      },
      "execution_count": null,
      "outputs": []
    },
    {
      "cell_type": "markdown",
      "source": [
        "Algunas máximas claves (paráfrasis):\n",
        "- Lo **simple** es mejor que lo complejo.\n",
        "- **Explícito** es mejor que implícito.\n",
        "- **Legibilidad** cuenta.\n",
        "- Debería haber una forma obvia de hacerlo.\n"
      ],
      "metadata": {
        "id": "O6cYmVLN-Zqq"
      }
    },
    {
      "cell_type": "markdown",
      "source": [
        "##**1.3. Guía de estilo: PEP 8**\n",
        "\n",
        "PEP 8 (Python Enhancement Proposal 8) es la guía de estilo oficial para\n",
        "escribir código Python. Su objetivo es mejorar la legibilidad y la consistencia\n",
        "del código. Para alguien que viene de Java, acostumbrado a convenciones\n",
        "estrictas, seguir PEP 8 es el primer paso para escribir código verdaderamente\n",
        "Pythonic.\n",
        "\n",
        "Algunos puntos clave (especialmente en contraste con Java):\n",
        "- **Nomenclatura:** A diferencia del camelCase de Java, en Python se usa\n",
        "snake_case para variables y funciones (mi_variable, calcular_total()).\n",
        "Las clases sí usan PascalCase (o CapWords), igual que en Java (class\n",
        "MiClase:).\n",
        "- **Indentación:** Usa siempre 4 espacios por nivel de indentación. No\n",
        "uses tabuladores. Esto es una regla casi sagrada en la comunidad.\n",
        "- **Longitud de línea:** Limita las líneas a 79 caracteres. Esto fomenta\n",
        "la claridad y evita el desplazamiento horizontal.\n",
        "- **Espaciado:** Usa espacios alrededor de operadores (x = y + 1) y después de las comas, pero no directamente dentro de paréntesis (mi_funcion(x,\n",
        "y)).\n",
        "\n",
        "**En la práctica:** Para asegurar la calidad del código, la comunidad usa\n",
        "linters y formateadores.\n",
        "- El **stack clásico**: flake8 para detectar errores de estilo y black para\n",
        "formatear el código automáticamente.\n",
        "- **Nueva herramienta:** Ruff ha unificado todo. Es un linter y formateador extremadamente rápido que reemplaza a flake8, black y\n",
        "muchos otros en una sola herramienta. Para proyectos nuevos, Ruff\n",
        "es la opción recomendada.\n",
        "\n",
        "La mayoría de los editores (como VS Code) tienen excelentes extensiones\n",
        "para integrar estas herramientas."
      ],
      "metadata": {
        "id": "jqoUTC2F-8wS"
      }
    },
    {
      "cell_type": "markdown",
      "source": [
        "##1.4. Comparaciones rápidas Java → Python\n"
      ],
      "metadata": {
        "id": "Hj1QjdnxBfk2"
      }
    },
    {
      "cell_type": "markdown",
      "source": [
        "**Iterar colecciones**\n",
        "\n",
        "*Pythonic*"
      ],
      "metadata": {
        "id": "Jo3iYM7FBqF1"
      }
    },
    {
      "cell_type": "code",
      "source": [
        "nombres=[\"Dante\",\"Alejando\", \"Virgilio\"]\n",
        "for nombre in nombres:\n",
        " print(nombre)"
      ],
      "metadata": {
        "colab": {
          "base_uri": "https://localhost:8080/"
        },
        "id": "MAeglMZaB0NO",
        "outputId": "80f6d615-3d75-4975-e17c-f374e584cb4b"
      },
      "execution_count": null,
      "outputs": [
        {
          "output_type": "stream",
          "name": "stdout",
          "text": [
            "Dante\n",
            "Alejando\n",
            "Virgilio\n"
          ]
        }
      ]
    },
    {
      "cell_type": "markdown",
      "source": [
        "**Formateo de cadenas**\n",
        "\n",
        "*Pythonic*\n"
      ],
      "metadata": {
        "id": "G3ARsYOZCB_9"
      }
    },
    {
      "cell_type": "code",
      "source": [
        "nombre, edad = \"Ana\", 21\n",
        "print(f\"Hola {nombre}, tienes {edad} años.\")\n"
      ],
      "metadata": {
        "colab": {
          "base_uri": "https://localhost:8080/"
        },
        "id": "rgq-hcn2CI5t",
        "outputId": "5c36be82-e1d0-418f-ca87-518472f59428"
      },
      "execution_count": null,
      "outputs": [
        {
          "output_type": "stream",
          "name": "stdout",
          "text": [
            "Hola Ana, tienes 21 años.\n"
          ]
        }
      ]
    },
    {
      "cell_type": "markdown",
      "source": [
        "**Intercambio de variables**\n",
        "\n",
        "*Pythonic*"
      ],
      "metadata": {
        "id": "2FfCrqYbCQ_O"
      }
    },
    {
      "cell_type": "code",
      "source": [
        "a=1\n",
        "b=2\n",
        "print(\"a=\", a ,\"b=\", b, sep=\" \")\n",
        "a, b = b, a\n",
        "print(\"a=\", a, \"b=\", b, sep=\" \")\n",
        "\n"
      ],
      "metadata": {
        "colab": {
          "base_uri": "https://localhost:8080/"
        },
        "id": "gaju9__ACZf1",
        "outputId": "db2a7ac0-bc9e-4c8c-9bca-2408d884e8e9"
      },
      "execution_count": null,
      "outputs": [
        {
          "output_type": "stream",
          "name": "stdout",
          "text": [
            "a= 1 b= 2\n",
            "a= 2 b= 1\n"
          ]
        }
      ]
    },
    {
      "cell_type": "markdown",
      "source": [
        "**Construcción/filtrado de listas**\n",
        "\n",
        "*Pythonic*\n"
      ],
      "metadata": {
        "id": "aTW5AgQ_Czyl"
      }
    },
    {
      "cell_type": "code",
      "source": [
        "cuadrados_pares = [x*x for x in range(10) if x % 2 == 0]\n",
        "for numero in cuadrados_pares:\n",
        "    print(numero)"
      ],
      "metadata": {
        "colab": {
          "base_uri": "https://localhost:8080/"
        },
        "id": "iGmZ5Z41C5vt",
        "outputId": "3b899dfe-9941-425b-cb96-4d548f5c10ef"
      },
      "execution_count": null,
      "outputs": [
        {
          "output_type": "stream",
          "name": "stdout",
          "text": [
            "0\n",
            "4\n",
            "16\n",
            "36\n",
            "64\n"
          ]
        }
      ]
    },
    {
      "cell_type": "markdown",
      "source": [
        "**Enumerar con índice y valor**\n",
        "\n",
        "*Pythonic*"
      ],
      "metadata": {
        "id": "iXpa6bdzDH-d"
      }
    },
    {
      "cell_type": "code",
      "source": [
        "datos=[1,2,34,4]\n",
        "for i, valor in enumerate(datos, start=1):\n",
        " print(i, valor, sep=\". \")"
      ],
      "metadata": {
        "colab": {
          "base_uri": "https://localhost:8080/"
        },
        "id": "fpy84NQFDMu1",
        "outputId": "8777063d-2ac0-4844-be38-e167ca12bfef"
      },
      "execution_count": null,
      "outputs": [
        {
          "output_type": "stream",
          "name": "stdout",
          "text": [
            "1. 1\n",
            "2. 2\n",
            "3. 34\n",
            "4. 4\n"
          ]
        }
      ]
    },
    {
      "cell_type": "markdown",
      "source": [
        "**Uso de funciones agregadas (Python)**\n",
        "\n",
        "*Pythonic*"
      ],
      "metadata": {
        "id": "mUs2fUkWFkQ2"
      }
    },
    {
      "cell_type": "code",
      "source": [
        "precios=[2,3,1,2]\n",
        "total = sum(precios)\n",
        "print(total)\n",
        "valores=[2,3,1,2]\n",
        "hay_negativos = any(x < 0 for x in valores)\n",
        "todos_enteros = all(isinstance(x, int) for x in valores)\n",
        "\n",
        "print(hay_negativos)\n",
        "print(todos_enteros)\n"
      ],
      "metadata": {
        "colab": {
          "base_uri": "https://localhost:8080/"
        },
        "id": "RCs8WX97F1DO",
        "outputId": "3a447b11-91fa-4f98-f738-83dd821b9e79"
      },
      "execution_count": null,
      "outputs": [
        {
          "output_type": "stream",
          "name": "stdout",
          "text": [
            "8\n",
            "False\n",
            "True\n"
          ]
        }
      ]
    },
    {
      "cell_type": "markdown",
      "source": [
        "##**1.5. Buenas prácticas esenciales**\n",
        "Más allá de la sintaxis, escribir buen código Python implica adoptar\n",
        "ciertos hábitos. Para alguien que viene de Java, estas prácticas son clave\n",
        "para dejar de traducir y empezar a pensar en Python.\n",
        "1. **Usa nombres de variables descriptivos:** El código se lee muchas más\n",
        "veces de las que se escribe. Usa nombres completos y claros que expliquen la intención de la variable o función. Evita abreviaturas crípticas.\n",
        "\n",
        "**No recomendado (críptico):**\n"
      ],
      "metadata": {
        "id": "G-czwZhZHXDe"
      }
    },
    {
      "cell_type": "code",
      "source": [
        " #Para este caso fue facil, solamente agregar los metodos  junto a valores asociados\n",
        "\n",
        " # ¿Qué significan 'd' y 'calc'?\n",
        " def obtener_datos(c):\n",
        "    return c\n",
        " def calc(d, h):\n",
        "    return d+h\n",
        " d = obtener_datos(2)\n",
        " res = calc(d, 0.15)\n",
        " print(res)"
      ],
      "metadata": {
        "colab": {
          "base_uri": "https://localhost:8080/"
        },
        "id": "BfDcys-LZCPB",
        "outputId": "a7b56dce-7810-43d3-9e32-5d611be9dc7a"
      },
      "execution_count": null,
      "outputs": [
        {
          "output_type": "stream",
          "name": "stdout",
          "text": [
            "2.15\n"
          ]
        }
      ]
    },
    {
      "cell_type": "markdown",
      "source": [
        " **Recomendado (descriptivo):**\n"
      ],
      "metadata": {
        "id": "8y6FzCCSZUtr"
      }
    },
    {
      "cell_type": "code",
      "source": [
        "def obtener_datos_de_clientes():\n",
        "    return [\n",
        "        {\"nombre\": \"Ana\", \"monto\": 1200},\n",
        "        {\"nombre\": \"Luis\", \"monto\": 850},\n",
        "        {\"nombre\": \"Carla\", \"monto\": 950}\n",
        "    ]\n",
        "\n",
        "def calcular_impuesto_total(clientes, tasa):\n",
        "    return sum(cliente[\"monto\"] * tasa for cliente in clientes)\n",
        "\n",
        "# El nombre explica el propósito\n",
        "lista_de_clientes = obtener_datos_de_clientes()\n",
        "impuesto_aplicado = calcular_impuesto_total(lista_de_clientes, 0.15)\n",
        "print(impuesto_aplicado)\n"
      ],
      "metadata": {
        "colab": {
          "base_uri": "https://localhost:8080/"
        },
        "id": "IbZNGX0TZYMO",
        "outputId": "652551ee-85d4-46dc-db95-21601cd143e9"
      },
      "execution_count": null,
      "outputs": [
        {
          "output_type": "stream",
          "name": "stdout",
          "text": [
            "450.0\n"
          ]
        }
      ]
    },
    {
      "cell_type": "markdown",
      "source": [
        "**2. Principio DRY (Don’t Repeat Yourself)** Este principio es univer\n",
        "sal, pero Python ofrece herramientas muy elegantes para seguirlo. Si\n",
        " te encuentras copiando y pegando un bloque de código, es una señal\n",
        " para crear una función.\n",
        " No Pythonic (repetitivo):"
      ],
      "metadata": {
        "id": "7t-zLpnAZcKV"
      }
    },
    {
      "cell_type": "markdown",
      "source": [
        "**No Pythonic (repetitivo):**\n"
      ],
      "metadata": {
        "id": "7kNbNzCBZt24"
      }
    },
    {
      "cell_type": "code",
      "source": [
        "def calcular_precio_final(precio, descuento):\n",
        "    return precio * (1 - descuento)\n",
        "\n",
        "# Producto A, para la linea de codigo de arriba se le agrego el de calcular precio final\n",
        "precio_a = 100\n",
        "descuento_a = 0.1\n",
        "print(calcular_precio_final(precio_a, descuento_a))\n",
        "\n",
        "# Producto B\n",
        "precio_b = 250\n",
        "descuento_b = 0.15\n",
        "print(calcular_precio_final(precio_b, descuento_b))\n"
      ],
      "metadata": {
        "colab": {
          "base_uri": "https://localhost:8080/"
        },
        "id": "LyNzWbK3ZdfU",
        "outputId": "ae0dbc2a-ec37-4854-abdb-37bb50626918"
      },
      "execution_count": null,
      "outputs": [
        {
          "output_type": "stream",
          "name": "stdout",
          "text": [
            "90.0\n",
            "212.5\n"
          ]
        }
      ]
    },
    {
      "cell_type": "markdown",
      "source": [
        "**Pythonic (reutilizable):**"
      ],
      "metadata": {
        "id": "vYiTQ2XDZ4Ka"
      }
    },
    {
      "cell_type": "code",
      "source": [
        " def calcular_precio_final(precio_base, descuento):\n",
        "    #Se elimiio la linea de arriba para imprimir todo\n",
        "    return precio_base * (1- descuento)\n",
        " precio_final_a = calcular_precio_final(100, 0.1)\n",
        " precio_final_b = calcular_precio_final(250, 0.15)\n",
        " print(precio_final_a)\n",
        " print(precio_final_b)"
      ],
      "metadata": {
        "colab": {
          "base_uri": "https://localhost:8080/"
        },
        "id": "s1vCV3E6Zz5M",
        "outputId": "5e1d59f9-eda9-47de-c7e2-2a0a1b45ba72"
      },
      "execution_count": null,
      "outputs": [
        {
          "output_type": "stream",
          "name": "stdout",
          "text": [
            "90.0\n",
            "212.5\n"
          ]
        }
      ]
    },
    {
      "cell_type": "markdown",
      "source": [
        "**3. Usar las estructuras de datos correctas** Elegir la estructura de\n",
        " datos idiomática no solo hace el código más claro, sino también más\n",
        " eficiente.\n",
        "\n",
        " - **Usa with para manejar recursos.** Similaraltry-with-resources\n",
        " de Java, el bloque with garantiza que los recursos (como archivos\n",
        " o conexiones de red) se cierren correctamente, incluso si ocurren\n",
        " errores. ¡Nunca más olvides un f.close()!"
      ],
      "metadata": {
        "id": "l-Zl44x9cOC_"
      }
    },
    {
      "cell_type": "code",
      "source": [
        "def obtener_datos_de_clientes_desde_archivo(nombre_archivo):\n",
        "    clientes = []\n",
        "    with open(nombre_archivo, \"r\", encoding=\"utf-8\") as f:\n",
        "        for linea in f:\n",
        "            nombre, monto = linea.strip().split(\",\")\n",
        "            clientes.append({\"nombre\": nombre, \"monto\": float(monto)})\n",
        "    return clientes\n"
      ],
      "metadata": {
        "id": "75qJSV9acO4b"
      },
      "execution_count": null,
      "outputs": []
    },
    {
      "cell_type": "markdown",
      "source": [
        " - **Prefiere Comprensiones a bucles for verbosos.** Las compren\n",
        "siones de listas, diccionarios y sets son una forma concisa y legible\n",
        " de crear colecciones a partir de otras."
      ],
      "metadata": {
        "id": "K50d95TXcwYy"
      }
    },
    {
      "cell_type": "code",
      "source": [
        " # No Pythonic: bucle for para crear una lista de cuadrados\n",
        " cuadrados = []\n",
        " for i in range(10):\n",
        "    cuadrados.append(i * i)\n",
        " # Pythonic: list comprehension\n",
        " cuadrados = [i * i for i in range(10)]\n",
        "\n",
        "#Somante agregue el print para mostrar los datos de todo\n",
        " print(cuadrados)"
      ],
      "metadata": {
        "colab": {
          "base_uri": "https://localhost:8080/"
        },
        "id": "BIjow-rJcwF_",
        "outputId": "ce4f2836-1e66-46dc-a783-7c4d2095f090"
      },
      "execution_count": null,
      "outputs": [
        {
          "output_type": "stream",
          "name": "stdout",
          "text": [
            "[0, 1, 4, 9, 16, 25, 36, 49, 64, 81]\n"
          ]
        }
      ]
    },
    {
      "cell_type": "markdown",
      "source": [
        "- **Usa sets para búsquedas rápidas.** Para verificar si un elemen\n",
        "to existe en una colección grande, un set es mucho más eficiente\n",
        " (búsqueda en O(1)) que una lista (búsqueda en O(n)).\n",
        "\n",
        " 4. **Manejo de errores explícito y específico** Python no tiene excepcio\n",
        "nes verificadas (checked exceptions) como Java. La filosofía es .es más\n",
        " fácil pedir perdón que permiso”. Sin embargo, esto no significa ignorar\n",
        " los errores. Un error común de principiante es capturar excepciones de\n",
        " forma demasiado genérica.\n",
        " **Peligroso (oculta todos los errores):**"
      ],
      "metadata": {
        "id": "o-HEo9ghc9rM"
      }
    },
    {
      "cell_type": "code",
      "source": [
        "try:\n",
        "    edad = int(input(\"Introduce tu edad: \"))\n",
        "    factor = 10 / edad\n",
        "except ValueError:\n",
        "    print(\"Error: Debes introducir un número válido.\")\n",
        "except ZeroDivisionError:\n",
        "    print(\"Error: La edad no puede ser cero.\")\n"
      ],
      "metadata": {
        "colab": {
          "base_uri": "https://localhost:8080/",
          "height": 373
        },
        "id": "zPWvl4QcdCPS",
        "outputId": "fb29c9a5-c8c7-4f29-c0d8-4d5c476adbeb"
      },
      "execution_count": null,
      "outputs": [
        {
          "output_type": "error",
          "ename": "KeyboardInterrupt",
          "evalue": "Interrupted by user",
          "traceback": [
            "\u001b[0;31m---------------------------------------------------------------------------\u001b[0m",
            "\u001b[0;31mKeyboardInterrupt\u001b[0m                         Traceback (most recent call last)",
            "\u001b[0;32m/tmp/ipython-input-3920110070.py\u001b[0m in \u001b[0;36m<cell line: 0>\u001b[0;34m()\u001b[0m\n\u001b[1;32m      1\u001b[0m \u001b[0;32mtry\u001b[0m\u001b[0;34m:\u001b[0m\u001b[0;34m\u001b[0m\u001b[0;34m\u001b[0m\u001b[0m\n\u001b[0;32m----> 2\u001b[0;31m     \u001b[0medad\u001b[0m \u001b[0;34m=\u001b[0m \u001b[0mint\u001b[0m\u001b[0;34m(\u001b[0m\u001b[0minput\u001b[0m\u001b[0;34m(\u001b[0m\u001b[0;34m\"Introduce tu edad: \"\u001b[0m\u001b[0;34m)\u001b[0m\u001b[0;34m)\u001b[0m\u001b[0;34m\u001b[0m\u001b[0;34m\u001b[0m\u001b[0m\n\u001b[0m\u001b[1;32m      3\u001b[0m     \u001b[0mfactor\u001b[0m \u001b[0;34m=\u001b[0m \u001b[0;36m10\u001b[0m \u001b[0;34m/\u001b[0m \u001b[0medad\u001b[0m\u001b[0;34m\u001b[0m\u001b[0;34m\u001b[0m\u001b[0m\n\u001b[1;32m      4\u001b[0m \u001b[0;32mexcept\u001b[0m \u001b[0mValueError\u001b[0m\u001b[0;34m:\u001b[0m\u001b[0;34m\u001b[0m\u001b[0;34m\u001b[0m\u001b[0m\n\u001b[1;32m      5\u001b[0m     \u001b[0mprint\u001b[0m\u001b[0;34m(\u001b[0m\u001b[0;34m\"Error: Debes introducir un número válido.\"\u001b[0m\u001b[0;34m)\u001b[0m\u001b[0;34m\u001b[0m\u001b[0;34m\u001b[0m\u001b[0m\n",
            "\u001b[0;32m/usr/local/lib/python3.12/dist-packages/ipykernel/kernelbase.py\u001b[0m in \u001b[0;36mraw_input\u001b[0;34m(self, prompt)\u001b[0m\n\u001b[1;32m   1175\u001b[0m                 \u001b[0;34m\"raw_input was called, but this frontend does not support input requests.\"\u001b[0m\u001b[0;34m\u001b[0m\u001b[0;34m\u001b[0m\u001b[0m\n\u001b[1;32m   1176\u001b[0m             )\n\u001b[0;32m-> 1177\u001b[0;31m         return self._input_request(\n\u001b[0m\u001b[1;32m   1178\u001b[0m             \u001b[0mstr\u001b[0m\u001b[0;34m(\u001b[0m\u001b[0mprompt\u001b[0m\u001b[0;34m)\u001b[0m\u001b[0;34m,\u001b[0m\u001b[0;34m\u001b[0m\u001b[0;34m\u001b[0m\u001b[0m\n\u001b[1;32m   1179\u001b[0m             \u001b[0mself\u001b[0m\u001b[0;34m.\u001b[0m\u001b[0m_parent_ident\u001b[0m\u001b[0;34m[\u001b[0m\u001b[0;34m\"shell\"\u001b[0m\u001b[0;34m]\u001b[0m\u001b[0;34m,\u001b[0m\u001b[0;34m\u001b[0m\u001b[0;34m\u001b[0m\u001b[0m\n",
            "\u001b[0;32m/usr/local/lib/python3.12/dist-packages/ipykernel/kernelbase.py\u001b[0m in \u001b[0;36m_input_request\u001b[0;34m(self, prompt, ident, parent, password)\u001b[0m\n\u001b[1;32m   1217\u001b[0m             \u001b[0;32mexcept\u001b[0m \u001b[0mKeyboardInterrupt\u001b[0m\u001b[0;34m:\u001b[0m\u001b[0;34m\u001b[0m\u001b[0;34m\u001b[0m\u001b[0m\n\u001b[1;32m   1218\u001b[0m                 \u001b[0;31m# re-raise KeyboardInterrupt, to truncate traceback\u001b[0m\u001b[0;34m\u001b[0m\u001b[0;34m\u001b[0m\u001b[0m\n\u001b[0;32m-> 1219\u001b[0;31m                 \u001b[0;32mraise\u001b[0m \u001b[0mKeyboardInterrupt\u001b[0m\u001b[0;34m(\u001b[0m\u001b[0;34m\"Interrupted by user\"\u001b[0m\u001b[0;34m)\u001b[0m \u001b[0;32mfrom\u001b[0m \u001b[0;32mNone\u001b[0m\u001b[0;34m\u001b[0m\u001b[0;34m\u001b[0m\u001b[0m\n\u001b[0m\u001b[1;32m   1220\u001b[0m             \u001b[0;32mexcept\u001b[0m \u001b[0mException\u001b[0m\u001b[0;34m:\u001b[0m\u001b[0;34m\u001b[0m\u001b[0;34m\u001b[0m\u001b[0m\n\u001b[1;32m   1221\u001b[0m                 \u001b[0mself\u001b[0m\u001b[0;34m.\u001b[0m\u001b[0mlog\u001b[0m\u001b[0;34m.\u001b[0m\u001b[0mwarning\u001b[0m\u001b[0;34m(\u001b[0m\u001b[0;34m\"Invalid Message:\"\u001b[0m\u001b[0;34m,\u001b[0m \u001b[0mexc_info\u001b[0m\u001b[0;34m=\u001b[0m\u001b[0;32mTrue\u001b[0m\u001b[0;34m)\u001b[0m\u001b[0;34m\u001b[0m\u001b[0;34m\u001b[0m\u001b[0m\n",
            "\u001b[0;31mKeyboardInterrupt\u001b[0m: Interrupted by user"
          ]
        }
      ]
    },
    {
      "cell_type": "markdown",
      "source": [
        " **Correcto (específico):**\n"
      ],
      "metadata": {
        "id": "_q9Mj7YYeZqF"
      }
    },
    {
      "cell_type": "code",
      "source": [
        " try:\n",
        "    edad = int(input(\"Introduce tu edad: \"))\n",
        "    factor = 10 / edad\n",
        " except ValueError:\n",
        "    print(\"Error: Debesintroducir unnúmero válido.\")\n",
        " except ZeroDivisionError:\n",
        "    print(\"Error: Laedadnopuedeser cero.\")\n",
        " # Un TypeError (si input devolviera algo inesperado) sí detendría el programa, ¡lo cual es bueno!"
      ],
      "metadata": {
        "colab": {
          "base_uri": "https://localhost:8080/"
        },
        "id": "wYT1WlmUebq_",
        "outputId": "b6d65480-4e72-4360-ab14-e26c3bdc82bc"
      },
      "execution_count": null,
      "outputs": [
        {
          "name": "stdout",
          "output_type": "stream",
          "text": [
            "Introduce tuedad: 2\n"
          ]
        }
      ]
    },
    {
      "cell_type": "markdown",
      "source": [
        " Esto sigue el principio de fallar fuerte y temprano: manejas los errores\n",
        " que esperas y dejas que los errores inesperados (que son bugs) detengan\n",
        " el programa para que puedas encontrarlos y arreglarlos\n",
        "\n",
        " **Checklist Pythonic (rápida):**\n",
        " ¿Tu solución es clara, simple y legible?\n",
        " ¿Aprovecha comprensiones, enumerate, items(), sum/any/all?\n",
        " ¿Evita bucles y banderas innecesarias? ¿Usa with para archivos?"
      ],
      "metadata": {
        "id": "rU1-6EQGeoTh"
      }
    },
    {
      "cell_type": "markdown",
      "source": [
        " **2. Parte II. Mini–taller Pythonic (10 ejercicios)**\n",
        "\n",
        " Cada ítem presenta un código base (estilo no Pythonic) y un obje\n",
        "tivo. Reescribe la solución aprovechando ideas Pythonic. No modifiques la\n",
        " salida esperada."
      ],
      "metadata": {
        "id": "B6poIjc5esZ9"
      }
    },
    {
      "cell_type": "markdown",
      "source": [
        "**Indicaciones**\n",
        " - Puedes ejecutar y probar cada fragmento.\n",
        " - Concéntrate en legibilidad y brevedad sin trucos oscuros.\n",
        " - Usa comentarios para justificar decisiones de estilo cuando haga falta."
      ],
      "metadata": {
        "id": "h-0jz7LPe3Fr"
      }
    },
    {
      "cell_type": "markdown",
      "source": [
        " **Ejercicio 1. Filtrar pares**\n",
        "\n",
        "  **Código base (no Pythonic):**\n",
        "\n"
      ],
      "metadata": {
        "id": "pR_-r7h8e8BT"
      }
    },
    {
      "cell_type": "code",
      "source": [
        " numeros = [1, 2, 3, 4, 5, 6]\n",
        " pares = []\n",
        " for i in range(len(numeros)):\n",
        "    if numeros[i] % 2 == 0:\n",
        "        pares.append(numeros[i])\n",
        " print(pares)"
      ],
      "metadata": {
        "colab": {
          "base_uri": "https://localhost:8080/"
        },
        "id": "XkaGpBTGe-xA",
        "outputId": "ce4dffee-ea28-4757-ea57-58eea8ff3e16"
      },
      "execution_count": null,
      "outputs": [
        {
          "output_type": "stream",
          "name": "stdout",
          "text": [
            "[2, 4, 6]\n"
          ]
        }
      ]
    },
    {
      "cell_type": "markdown",
      "source": [
        "**Objetivo:** Usa una lista comprehesion"
      ],
      "metadata": {
        "id": "KOIxzI1VfgXm"
      }
    },
    {
      "cell_type": "code",
      "source": [
        "numeros = [1, 2, 3, 4, 5, 6]\n",
        "pares = [n for n in numeros if n % 2 == 0]\n",
        "print(pares)\n"
      ],
      "metadata": {
        "colab": {
          "base_uri": "https://localhost:8080/"
        },
        "id": "wsJxPeK8fm9n",
        "outputId": "4ab599df-be82-4e7b-85fe-bee4c827ed7c"
      },
      "execution_count": null,
      "outputs": [
        {
          "output_type": "stream",
          "name": "stdout",
          "text": [
            "[2, 4, 6]\n"
          ]
        }
      ]
    },
    {
      "cell_type": "markdown",
      "source": [
        " **Ejercicio 2. Recorrer lista con índice y valor**\n",
        "\n",
        "  **Código base:**\n",
        "\n"
      ],
      "metadata": {
        "id": "ojRfJCrhf1dF"
      }
    },
    {
      "cell_type": "code",
      "source": [
        " frutas = [\"manzana\", \"pera\", \"uva\"]\n",
        " i = 0\n",
        " for f in frutas:\n",
        "    print(i+1, f)\n",
        "    i = i + 1"
      ],
      "metadata": {
        "colab": {
          "base_uri": "https://localhost:8080/"
        },
        "id": "huU_7WQjgAuj",
        "outputId": "5dfcf2db-d287-405f-9ea8-0b3afb409495"
      },
      "execution_count": null,
      "outputs": [
        {
          "output_type": "stream",
          "name": "stdout",
          "text": [
            "1 manzana\n",
            "2 pera\n",
            "3 uva\n"
          ]
        }
      ]
    },
    {
      "cell_type": "markdown",
      "source": [
        " **Objetivo:** Usa enumerate con start=1.\n"
      ],
      "metadata": {
        "id": "YkBsobKbgibS"
      }
    },
    {
      "cell_type": "code",
      "source": [
        "frutas = [\"manzana\", \"pera\", \"uva\"]\n",
        "for i, f in enumerate(frutas, start=1):\n",
        "    print(i, f, sep=\". \")\n"
      ],
      "metadata": {
        "colab": {
          "base_uri": "https://localhost:8080/"
        },
        "id": "sMVIk5tvgEMf",
        "outputId": "25137992-29fe-4ca2-81e3-5409a0ed4b62"
      },
      "execution_count": null,
      "outputs": [
        {
          "output_type": "stream",
          "name": "stdout",
          "text": [
            "1. manzana\n",
            "2. pera\n",
            "3. uva\n"
          ]
        }
      ]
    },
    {
      "cell_type": "markdown",
      "source": [
        " **Ejercicio 3. Construir diccionario a partir de pares**\n",
        "\n",
        "\n",
        "**Código base:**"
      ],
      "metadata": {
        "id": "msfhJrsagn89"
      }
    },
    {
      "cell_type": "code",
      "source": [
        "claves = [\"a\", \"b\", \"c\"]\n",
        "valores = [1, 2, 3]\n",
        "d = dict(zip(claves, valores))\n",
        "print(d)"
      ],
      "metadata": {
        "colab": {
          "base_uri": "https://localhost:8080/"
        },
        "id": "kZR7XOjWgnNR",
        "outputId": "5f1612d0-d81a-4274-c031-6c7ef2e97bcd"
      },
      "execution_count": null,
      "outputs": [
        {
          "output_type": "stream",
          "name": "stdout",
          "text": [
            "{'a': 1, 'b': 2, 'c': 3}\n"
          ]
        }
      ]
    },
    {
      "cell_type": "markdown",
      "source": [
        "**Ejercicio 4. Contar elementos que cumplen condición**"
      ],
      "metadata": {
        "id": "wBmnNzGRhP6w"
      }
    },
    {
      "cell_type": "markdown",
      "source": [
        "**Código base:**"
      ],
      "metadata": {
        "id": "QryIdkTzhQXK"
      }
    },
    {
      "cell_type": "code",
      "source": [
        " nums = [5,-1, 3, 0, 7,-4]\n",
        " cont = 0\n",
        " for n in nums:\n",
        "    if n > 0:\n",
        "        cont = cont + 1\n",
        "        print(cont)"
      ],
      "metadata": {
        "colab": {
          "base_uri": "https://localhost:8080/"
        },
        "id": "sb9Q-1AqhvaL",
        "outputId": "4f91c0fd-8d66-4647-d56b-fa658c89e8e7"
      },
      "execution_count": null,
      "outputs": [
        {
          "output_type": "stream",
          "name": "stdout",
          "text": [
            "1\n",
            "2\n",
            "3\n"
          ]
        }
      ]
    },
    {
      "cell_type": "markdown",
      "source": [
        " **Objetivo:** Usa sum con una expresión booleana."
      ],
      "metadata": {
        "id": "AlBHqurPhQpZ"
      }
    },
    {
      "cell_type": "code",
      "source": [
        "nums = [5, -1, 3, 0, 7, -4]\n",
        "cont = sum(n > 0 for n in nums)\n",
        "print(cont)"
      ],
      "metadata": {
        "colab": {
          "base_uri": "https://localhost:8080/"
        },
        "id": "U4LZILQvi7m6",
        "outputId": "49f78c86-00b2-4d93-d027-2e9d1fb8f3b9"
      },
      "execution_count": null,
      "outputs": [
        {
          "output_type": "stream",
          "name": "stdout",
          "text": [
            "3\n"
          ]
        }
      ]
    },
    {
      "cell_type": "markdown",
      "source": [
        " **Ejercicio 5. Verificar si alguno cumple**\n"
      ],
      "metadata": {
        "id": "BiHgXTgnhQ2a"
      }
    },
    {
      "cell_type": "markdown",
      "source": [
        " **Código base:**\n"
      ],
      "metadata": {
        "id": "EvSfJ6CzhWIW"
      }
    },
    {
      "cell_type": "code",
      "source": [
        "texto = \"haynumeros 123\"\n",
        "flag = False\n",
        "for ch in texto:\n",
        "    if ch.isdigit():\n",
        "        flag = True\n",
        "        break\n",
        "print(flag)"
      ],
      "metadata": {
        "colab": {
          "base_uri": "https://localhost:8080/"
        },
        "id": "JOWPKa5ejUgF",
        "outputId": "3dd2f0a9-ec44-44b1-daf0-ac7402ba9f58"
      },
      "execution_count": null,
      "outputs": [
        {
          "output_type": "stream",
          "name": "stdout",
          "text": [
            "True\n"
          ]
        }
      ]
    },
    {
      "cell_type": "markdown",
      "source": [
        " **Objetivo:** Usa any.\n"
      ],
      "metadata": {
        "id": "rav1wmsyhWYU"
      }
    },
    {
      "cell_type": "code",
      "source": [
        "texto = \"haynumeros 123\"\n",
        "flag = any(ch.isdigit() for ch in texto)\n",
        "print(flag)\n"
      ],
      "metadata": {
        "colab": {
          "base_uri": "https://localhost:8080/"
        },
        "id": "tanXQcEOj1kG",
        "outputId": "3c699bb9-3bf8-4c17-94f2-982406c9eeb4"
      },
      "execution_count": null,
      "outputs": [
        {
          "output_type": "stream",
          "name": "stdout",
          "text": [
            "True\n"
          ]
        }
      ]
    },
    {
      "cell_type": "markdown",
      "source": [
        " **Ejercicio 6. Formateo de cadenas**\n"
      ],
      "metadata": {
        "id": "5wGEXCwvhZKq"
      }
    },
    {
      "cell_type": "markdown",
      "source": [
        " **Código base:**\n"
      ],
      "metadata": {
        "id": "D0jQB2BzhaGG"
      }
    },
    {
      "cell_type": "code",
      "source": [
        " nombre = \"Ana\"\n",
        " edad = 21\n",
        " mensaje = \"Hola \" + nombre + \", tienes \" + str(edad) + \" años.\"\n",
        " print(mensaje)"
      ],
      "metadata": {
        "colab": {
          "base_uri": "https://localhost:8080/"
        },
        "id": "0j-LE0TbkMbL",
        "outputId": "1d2c2bae-696d-46c7-a35a-d10d03f71171"
      },
      "execution_count": null,
      "outputs": [
        {
          "output_type": "stream",
          "name": "stdout",
          "text": [
            "Hola Ana, tienes 21años.\n"
          ]
        }
      ]
    },
    {
      "cell_type": "markdown",
      "source": [
        " **Objetivo:** Usa f-strings.\n"
      ],
      "metadata": {
        "id": "b-ziVA04hav9"
      }
    },
    {
      "cell_type": "code",
      "source": [
        "nombre = \"Ana\"\n",
        "edad = 21\n",
        "mensaje = f\"Hola {nombre}, tienes {edad} años.\"\n",
        "print(mensaje)\n"
      ],
      "metadata": {
        "colab": {
          "base_uri": "https://localhost:8080/"
        },
        "id": "WK6NAPDckMKS",
        "outputId": "00c9e433-7f12-4a2a-c691-16b0c0e5c8a4"
      },
      "execution_count": null,
      "outputs": [
        {
          "output_type": "stream",
          "name": "stdout",
          "text": [
            "Hola Ana, tienes 21 años.\n"
          ]
        }
      ]
    },
    {
      "cell_type": "markdown",
      "source": [
        " **Ejercicio 7. Sumar valores por clave con dict.get**\n"
      ],
      "metadata": {
        "id": "L4AaxCsFhbed"
      }
    },
    {
      "cell_type": "markdown",
      "source": [
        "**Código base:**\n"
      ],
      "metadata": {
        "id": "u7h566clhcQV"
      }
    },
    {
      "cell_type": "code",
      "source": [
        " items = [\"a\", \"b\", \"a\", \"c\", \"a\", \"b\"]\n",
        " cont = {}\n",
        " for x in items:\n",
        "    if x in cont:\n",
        "        cont[x] = cont[x] + 1\n",
        "    else:\n",
        "        cont[x] = 1\n",
        " print(cont)"
      ],
      "metadata": {
        "colab": {
          "base_uri": "https://localhost:8080/"
        },
        "id": "tXn8bJ7ckLu1",
        "outputId": "1d283f85-c7d0-4cbc-821f-01c9adfe7ba0"
      },
      "execution_count": null,
      "outputs": [
        {
          "output_type": "stream",
          "name": "stdout",
          "text": [
            "{'a': 3, 'b': 2, 'c': 1}\n"
          ]
        }
      ]
    },
    {
      "cell_type": "markdown",
      "source": [
        " **Objetivo:** Usa dict.get (o collections.Counter).\n"
      ],
      "metadata": {
        "id": "hca-FbhshdF3"
      }
    },
    {
      "cell_type": "code",
      "source": [
        "items = [\"a\", \"b\", \"a\", \"c\", \"a\", \"b\"]\n",
        "cont = {}\n",
        "for x in items:\n",
        "    cont[x] = cont.get(x, 0) + 1\n",
        "print(cont)\n"
      ],
      "metadata": {
        "colab": {
          "base_uri": "https://localhost:8080/"
        },
        "id": "sA0oagjskLfr",
        "outputId": "0e2838d7-09a8-4728-f9b2-4e5f59832b10"
      },
      "execution_count": null,
      "outputs": [
        {
          "output_type": "stream",
          "name": "stdout",
          "text": [
            "{'a': 3, 'b': 2, 'c': 1}\n"
          ]
        }
      ]
    },
    {
      "cell_type": "markdown",
      "source": [
        " **Ejercicio 8. Desempaquetado y swap**\n"
      ],
      "metadata": {
        "id": "5NSjdkGIhd1X"
      }
    },
    {
      "cell_type": "markdown",
      "source": [
        " **Código base:**\n"
      ],
      "metadata": {
        "id": "T9ZpQV08hel2"
      }
    },
    {
      "cell_type": "code",
      "source": [
        " a = 10\n",
        " b = 20\n",
        " temp = a\n",
        " a = b\n",
        " b = temp\n",
        " print(a, b)"
      ],
      "metadata": {
        "colab": {
          "base_uri": "https://localhost:8080/"
        },
        "id": "M3yOjvTdkLIf",
        "outputId": "5eb062a6-a3e8-4f63-a4ce-a5be6a6bbe13"
      },
      "execution_count": null,
      "outputs": [
        {
          "output_type": "stream",
          "name": "stdout",
          "text": [
            "20 10\n"
          ]
        }
      ]
    },
    {
      "cell_type": "markdown",
      "source": [
        " **Objetivo:** Usa a, b = b, a.\n"
      ],
      "metadata": {
        "id": "AhbruP4Ohff7"
      }
    },
    {
      "cell_type": "code",
      "source": [
        " a = 10\n",
        " b = 20\n",
        " a, b = b, a\n",
        " print(a, b)"
      ],
      "metadata": {
        "id": "gJS-gShpkK6r"
      },
      "execution_count": null,
      "outputs": []
    },
    {
      "cell_type": "markdown",
      "source": [
        " **Ejercicio 9. Leer archivo y contar líneas**\n"
      ],
      "metadata": {
        "id": "Q5axlnozhgEP"
      }
    },
    {
      "cell_type": "markdown",
      "source": [
        " **Código base:**\n"
      ],
      "metadata": {
        "id": "D9cWFjZYhgv0"
      }
    },
    {
      "cell_type": "code",
      "source": [
        " f = open(\"datos.txt\", \"r\", encoding=\"utf-8\")\n",
        " lineas = f.readlines()\n",
        " f.close()\n",
        " print(len(lineas))"
      ],
      "metadata": {
        "colab": {
          "base_uri": "https://localhost:8080/",
          "height": 193
        },
        "id": "FnDR0cHjkKm9",
        "outputId": "b46deee5-2336-475c-9bdd-48a093210725"
      },
      "execution_count": null,
      "outputs": [
        {
          "output_type": "error",
          "ename": "FileNotFoundError",
          "evalue": "[Errno 2] No such file or directory: 'datos.txt'",
          "traceback": [
            "\u001b[0;31m---------------------------------------------------------------------------\u001b[0m",
            "\u001b[0;31mFileNotFoundError\u001b[0m                         Traceback (most recent call last)",
            "\u001b[0;32m/tmp/ipython-input-1151292762.py\u001b[0m in \u001b[0;36m<cell line: 0>\u001b[0;34m()\u001b[0m\n\u001b[0;32m----> 1\u001b[0;31m \u001b[0mf\u001b[0m \u001b[0;34m=\u001b[0m \u001b[0mopen\u001b[0m\u001b[0;34m(\u001b[0m\u001b[0;34m\"datos.txt\"\u001b[0m\u001b[0;34m,\u001b[0m \u001b[0;34m\"r\"\u001b[0m\u001b[0;34m,\u001b[0m \u001b[0mencoding\u001b[0m\u001b[0;34m=\u001b[0m\u001b[0;34m\"utf-8\"\u001b[0m\u001b[0;34m)\u001b[0m\u001b[0;34m\u001b[0m\u001b[0;34m\u001b[0m\u001b[0m\n\u001b[0m\u001b[1;32m      2\u001b[0m \u001b[0mlineas\u001b[0m \u001b[0;34m=\u001b[0m \u001b[0mf\u001b[0m\u001b[0;34m.\u001b[0m\u001b[0mreadlines\u001b[0m\u001b[0;34m(\u001b[0m\u001b[0;34m)\u001b[0m\u001b[0;34m\u001b[0m\u001b[0;34m\u001b[0m\u001b[0m\n\u001b[1;32m      3\u001b[0m \u001b[0mf\u001b[0m\u001b[0;34m.\u001b[0m\u001b[0mclose\u001b[0m\u001b[0;34m(\u001b[0m\u001b[0;34m)\u001b[0m\u001b[0;34m\u001b[0m\u001b[0;34m\u001b[0m\u001b[0m\n\u001b[1;32m      4\u001b[0m \u001b[0mprint\u001b[0m\u001b[0;34m(\u001b[0m\u001b[0mlen\u001b[0m\u001b[0;34m(\u001b[0m\u001b[0mlineas\u001b[0m\u001b[0;34m)\u001b[0m\u001b[0;34m)\u001b[0m\u001b[0;34m\u001b[0m\u001b[0;34m\u001b[0m\u001b[0m\n",
            "\u001b[0;31mFileNotFoundError\u001b[0m: [Errno 2] No such file or directory: 'datos.txt'"
          ]
        }
      ]
    },
    {
      "cell_type": "markdown",
      "source": [
        "**Objetivo:** Usa with open(...) y evita cargar todo en\n",
        " memoria."
      ],
      "metadata": {
        "id": "3LWkyP55hiWb"
      }
    },
    {
      "cell_type": "code",
      "source": [
        "f = open(\"datos.txt\", \"r\", encoding=\"utf-8\")\n",
        "lineas = f.readlines()\n",
        "f.close()\n",
        "print(len(lineas))"
      ],
      "metadata": {
        "colab": {
          "base_uri": "https://localhost:8080/",
          "height": 193
        },
        "id": "5tV4rI6OkKX1",
        "outputId": "4b7c8b91-4a75-47b7-b296-c9731117f62e"
      },
      "execution_count": null,
      "outputs": [
        {
          "output_type": "error",
          "ename": "FileNotFoundError",
          "evalue": "[Errno 2] No such file or directory: 'datos.txt'",
          "traceback": [
            "\u001b[0;31m---------------------------------------------------------------------------\u001b[0m",
            "\u001b[0;31mFileNotFoundError\u001b[0m                         Traceback (most recent call last)",
            "\u001b[0;32m/tmp/ipython-input-3688408.py\u001b[0m in \u001b[0;36m<cell line: 0>\u001b[0;34m()\u001b[0m\n\u001b[0;32m----> 1\u001b[0;31m \u001b[0mf\u001b[0m \u001b[0;34m=\u001b[0m \u001b[0mopen\u001b[0m\u001b[0;34m(\u001b[0m\u001b[0;34m\"datos.txt\"\u001b[0m\u001b[0;34m,\u001b[0m \u001b[0;34m\"r\"\u001b[0m\u001b[0;34m,\u001b[0m \u001b[0mencoding\u001b[0m\u001b[0;34m=\u001b[0m\u001b[0;34m\"utf-8\"\u001b[0m\u001b[0;34m)\u001b[0m\u001b[0;34m\u001b[0m\u001b[0;34m\u001b[0m\u001b[0m\n\u001b[0m\u001b[1;32m      2\u001b[0m \u001b[0mlineas\u001b[0m \u001b[0;34m=\u001b[0m \u001b[0mf\u001b[0m\u001b[0;34m.\u001b[0m\u001b[0mreadlines\u001b[0m\u001b[0;34m(\u001b[0m\u001b[0;34m)\u001b[0m\u001b[0;34m\u001b[0m\u001b[0;34m\u001b[0m\u001b[0m\n\u001b[1;32m      3\u001b[0m \u001b[0mf\u001b[0m\u001b[0;34m.\u001b[0m\u001b[0mclose\u001b[0m\u001b[0;34m(\u001b[0m\u001b[0;34m)\u001b[0m\u001b[0;34m\u001b[0m\u001b[0;34m\u001b[0m\u001b[0m\n\u001b[1;32m      4\u001b[0m \u001b[0mprint\u001b[0m\u001b[0;34m(\u001b[0m\u001b[0mlen\u001b[0m\u001b[0;34m(\u001b[0m\u001b[0mlineas\u001b[0m\u001b[0;34m)\u001b[0m\u001b[0;34m)\u001b[0m\u001b[0;34m\u001b[0m\u001b[0;34m\u001b[0m\u001b[0m\n",
            "\u001b[0;31mFileNotFoundError\u001b[0m: [Errno 2] No such file or directory: 'datos.txt'"
          ]
        }
      ]
    },
    {
      "cell_type": "markdown",
      "source": [
        " **Ejercicio 10. Generar lista transformada con condición**\n"
      ],
      "metadata": {
        "id": "lWK_Qglghjda"
      }
    },
    {
      "cell_type": "markdown",
      "source": [
        " **Código base:**\n"
      ],
      "metadata": {
        "id": "c2fCUMk6hkU9"
      }
    },
    {
      "cell_type": "code",
      "source": [
        " valores = [1, 2, 3, 4, 5]\n",
        " res = []\n",
        " for v in valores:\n",
        "    if v % 2 == 0:\n",
        "        res.append(v*v)\n",
        "print(res)"
      ],
      "metadata": {
        "colab": {
          "base_uri": "https://localhost:8080/"
        },
        "id": "Lf4u7tc1kJys",
        "outputId": "cad5d6ee-e233-48c6-f290-d599de898d1b"
      },
      "execution_count": null,
      "outputs": [
        {
          "output_type": "stream",
          "name": "stdout",
          "text": [
            "[4, 16]\n"
          ]
        }
      ]
    },
    {
      "cell_type": "markdown",
      "source": [
        " **Objetivo:** Usa list comprehension con filtro y mapeo.\n"
      ],
      "metadata": {
        "id": "SsNRvvwEhk_2"
      }
    },
    {
      "cell_type": "code",
      "source": [
        "valores = [1, 2, 3, 4, 5]\n",
        "res = [v*v for v in valores if v % 2 == 0]\n",
        "print(res)\n"
      ],
      "metadata": {
        "colab": {
          "base_uri": "https://localhost:8080/"
        },
        "id": "kZXeapgfkKA4",
        "outputId": "bd3eb036-901f-4a8a-9d5b-549371a3cd43"
      },
      "execution_count": null,
      "outputs": [
        {
          "output_type": "stream",
          "name": "stdout",
          "text": [
            "[4, 16]\n"
          ]
        }
      ]
    }
  ]
}